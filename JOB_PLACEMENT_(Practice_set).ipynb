{
  "nbformat": 4,
  "nbformat_minor": 0,
  "metadata": {
    "colab": {
      "provenance": [],
      "include_colab_link": true
    },
    "kernelspec": {
      "name": "python3",
      "display_name": "Python 3"
    },
    "language_info": {
      "name": "python"
    }
  },
  "cells": [
    {
      "cell_type": "markdown",
      "metadata": {
        "id": "view-in-github",
        "colab_type": "text"
      },
      "source": [
        "<a href=\"https://colab.research.google.com/github/gauravgaikwadit/placement-dataset-/blob/main/JOB_PLACEMENT_(Practice_set).ipynb\" target=\"_parent\"><img src=\"https://colab.research.google.com/assets/colab-badge.svg\" alt=\"Open In Colab\"/></a>"
      ]
    },
    {
      "cell_type": "code",
      "execution_count": null,
      "metadata": {
        "id": "tVIB4YCwGPYE"
      },
      "outputs": [],
      "source": [
        "import numpy as np\n",
        "import pandas as pd\n",
        "import matplotlib.pyplot as plt\n",
        "import seaborn as sns\n"
      ]
    },
    {
      "cell_type": "code",
      "source": [
        "data=pd.read_csv(r'/content/Placement_Data_Full_Class (4).csv')\n",
        "print(data.head(10))"
      ],
      "metadata": {
        "colab": {
          "base_uri": "https://localhost:8080/"
        },
        "id": "RyH5c_ewGuVQ",
        "outputId": "40fdf581-a390-4c37-b842-351e3ae5b4a2"
      },
      "execution_count": null,
      "outputs": [
        {
          "output_type": "stream",
          "name": "stdout",
          "text": [
            "   sl_no gender  ssc_p    ssc_b  hsc_p    hsc_b     hsc_s  degree_p  \\\n",
            "0      1      M  67.00   Others  91.00   Others  Commerce     58.00   \n",
            "1      2      M  79.33  Central  78.33   Others   Science     77.48   \n",
            "2      3      M  65.00  Central  68.00  Central      Arts     64.00   \n",
            "3      4      M  56.00  Central  52.00  Central   Science     52.00   \n",
            "4      5      M  85.80  Central  73.60  Central  Commerce     73.30   \n",
            "5      6      M  55.00   Others  49.80   Others   Science     67.25   \n",
            "6      7      F  46.00   Others  49.20   Others  Commerce     79.00   \n",
            "7      8      M  82.00  Central  64.00  Central   Science     66.00   \n",
            "8      9      M  73.00  Central  79.00  Central  Commerce     72.00   \n",
            "9     10      M  58.00  Central  70.00  Central  Commerce     61.00   \n",
            "\n",
            "    degree_t workex  etest_p specialisation  mba_p      status    salary  \n",
            "0   Sci&Tech     No    55.00         Mkt&HR  58.80      Placed  270000.0  \n",
            "1   Sci&Tech    Yes    86.50        Mkt&Fin  66.28      Placed  200000.0  \n",
            "2  Comm&Mgmt     No    75.00        Mkt&Fin  57.80      Placed  250000.0  \n",
            "3   Sci&Tech     No    66.00         Mkt&HR  59.43  Not Placed       NaN  \n",
            "4  Comm&Mgmt     No    96.80        Mkt&Fin  55.50      Placed  425000.0  \n",
            "5   Sci&Tech    Yes    55.00        Mkt&Fin  51.58  Not Placed       NaN  \n",
            "6  Comm&Mgmt     No    74.28        Mkt&Fin  53.29  Not Placed       NaN  \n",
            "7   Sci&Tech    Yes    67.00        Mkt&Fin  62.14      Placed  252000.0  \n",
            "8  Comm&Mgmt     No    91.34        Mkt&Fin  61.29      Placed  231000.0  \n",
            "9  Comm&Mgmt     No    54.00        Mkt&Fin  52.21  Not Placed       NaN  \n"
          ]
        }
      ]
    },
    {
      "cell_type": "code",
      "source": [
        "data.median()\n"
      ],
      "metadata": {
        "colab": {
          "base_uri": "https://localhost:8080/"
        },
        "id": "C-MxWlYCG-wH",
        "outputId": "bd22398a-1a7c-4d40-f2bd-fb4e42bf4876"
      },
      "execution_count": null,
      "outputs": [
        {
          "output_type": "stream",
          "name": "stderr",
          "text": [
            "<ipython-input-8-135339ac59ce>:1: FutureWarning: Dropping of nuisance columns in DataFrame reductions (with 'numeric_only=None') is deprecated; in a future version this will raise TypeError.  Select only valid columns before calling the reduction.\n",
            "  data.median()\n"
          ]
        },
        {
          "output_type": "execute_result",
          "data": {
            "text/plain": [
              "sl_no          108.0\n",
              "ssc_p           67.0\n",
              "hsc_p           65.0\n",
              "degree_p        66.0\n",
              "etest_p         71.0\n",
              "mba_p           62.0\n",
              "salary      265000.0\n",
              "dtype: float64"
            ]
          },
          "metadata": {},
          "execution_count": 8
        }
      ]
    },
    {
      "cell_type": "code",
      "source": [
        "print(data.isna().sum())"
      ],
      "metadata": {
        "colab": {
          "base_uri": "https://localhost:8080/"
        },
        "id": "7wvHbDLpG-yr",
        "outputId": "49747493-7d05-4aa8-c7e2-db8e77710f5a"
      },
      "execution_count": null,
      "outputs": [
        {
          "output_type": "stream",
          "name": "stdout",
          "text": [
            "sl_no              0\n",
            "gender             0\n",
            "ssc_p              0\n",
            "ssc_b              0\n",
            "hsc_p              0\n",
            "hsc_b              0\n",
            "hsc_s              0\n",
            "degree_p           0\n",
            "degree_t           0\n",
            "workex             0\n",
            "etest_p            0\n",
            "specialisation     0\n",
            "mba_p              0\n",
            "status             0\n",
            "salary            67\n",
            "dtype: int64\n"
          ]
        }
      ]
    },
    {
      "cell_type": "code",
      "source": [
        "data.describe()"
      ],
      "metadata": {
        "colab": {
          "base_uri": "https://localhost:8080/",
          "height": 300
        },
        "id": "vLAjp77eG-1K",
        "outputId": "57b3f154-3625-477c-da3e-728ecd4c34ce"
      },
      "execution_count": null,
      "outputs": [
        {
          "output_type": "execute_result",
          "data": {
            "text/plain": [
              "            sl_no       ssc_p       hsc_p    degree_p     etest_p       mba_p  \\\n",
              "count  215.000000  215.000000  215.000000  215.000000  215.000000  215.000000   \n",
              "mean   108.000000   67.303395   66.333163   66.370186   72.100558   62.278186   \n",
              "std     62.209324   10.827205   10.897509    7.358743   13.275956    5.833385   \n",
              "min      1.000000   40.890000   37.000000   50.000000   50.000000   51.210000   \n",
              "25%     54.500000   60.600000   60.900000   61.000000   60.000000   57.945000   \n",
              "50%    108.000000   67.000000   65.000000   66.000000   71.000000   62.000000   \n",
              "75%    161.500000   75.700000   73.000000   72.000000   83.500000   66.255000   \n",
              "max    215.000000   89.400000   97.700000   91.000000   98.000000   77.890000   \n",
              "\n",
              "              salary  \n",
              "count     148.000000  \n",
              "mean   288655.405405  \n",
              "std     93457.452420  \n",
              "min    200000.000000  \n",
              "25%    240000.000000  \n",
              "50%    265000.000000  \n",
              "75%    300000.000000  \n",
              "max    940000.000000  "
            ],
            "text/html": [
              "\n",
              "  <div id=\"df-b8a8930b-b4a8-4851-8369-c5e956a20ba8\">\n",
              "    <div class=\"colab-df-container\">\n",
              "      <div>\n",
              "<style scoped>\n",
              "    .dataframe tbody tr th:only-of-type {\n",
              "        vertical-align: middle;\n",
              "    }\n",
              "\n",
              "    .dataframe tbody tr th {\n",
              "        vertical-align: top;\n",
              "    }\n",
              "\n",
              "    .dataframe thead th {\n",
              "        text-align: right;\n",
              "    }\n",
              "</style>\n",
              "<table border=\"1\" class=\"dataframe\">\n",
              "  <thead>\n",
              "    <tr style=\"text-align: right;\">\n",
              "      <th></th>\n",
              "      <th>sl_no</th>\n",
              "      <th>ssc_p</th>\n",
              "      <th>hsc_p</th>\n",
              "      <th>degree_p</th>\n",
              "      <th>etest_p</th>\n",
              "      <th>mba_p</th>\n",
              "      <th>salary</th>\n",
              "    </tr>\n",
              "  </thead>\n",
              "  <tbody>\n",
              "    <tr>\n",
              "      <th>count</th>\n",
              "      <td>215.000000</td>\n",
              "      <td>215.000000</td>\n",
              "      <td>215.000000</td>\n",
              "      <td>215.000000</td>\n",
              "      <td>215.000000</td>\n",
              "      <td>215.000000</td>\n",
              "      <td>148.000000</td>\n",
              "    </tr>\n",
              "    <tr>\n",
              "      <th>mean</th>\n",
              "      <td>108.000000</td>\n",
              "      <td>67.303395</td>\n",
              "      <td>66.333163</td>\n",
              "      <td>66.370186</td>\n",
              "      <td>72.100558</td>\n",
              "      <td>62.278186</td>\n",
              "      <td>288655.405405</td>\n",
              "    </tr>\n",
              "    <tr>\n",
              "      <th>std</th>\n",
              "      <td>62.209324</td>\n",
              "      <td>10.827205</td>\n",
              "      <td>10.897509</td>\n",
              "      <td>7.358743</td>\n",
              "      <td>13.275956</td>\n",
              "      <td>5.833385</td>\n",
              "      <td>93457.452420</td>\n",
              "    </tr>\n",
              "    <tr>\n",
              "      <th>min</th>\n",
              "      <td>1.000000</td>\n",
              "      <td>40.890000</td>\n",
              "      <td>37.000000</td>\n",
              "      <td>50.000000</td>\n",
              "      <td>50.000000</td>\n",
              "      <td>51.210000</td>\n",
              "      <td>200000.000000</td>\n",
              "    </tr>\n",
              "    <tr>\n",
              "      <th>25%</th>\n",
              "      <td>54.500000</td>\n",
              "      <td>60.600000</td>\n",
              "      <td>60.900000</td>\n",
              "      <td>61.000000</td>\n",
              "      <td>60.000000</td>\n",
              "      <td>57.945000</td>\n",
              "      <td>240000.000000</td>\n",
              "    </tr>\n",
              "    <tr>\n",
              "      <th>50%</th>\n",
              "      <td>108.000000</td>\n",
              "      <td>67.000000</td>\n",
              "      <td>65.000000</td>\n",
              "      <td>66.000000</td>\n",
              "      <td>71.000000</td>\n",
              "      <td>62.000000</td>\n",
              "      <td>265000.000000</td>\n",
              "    </tr>\n",
              "    <tr>\n",
              "      <th>75%</th>\n",
              "      <td>161.500000</td>\n",
              "      <td>75.700000</td>\n",
              "      <td>73.000000</td>\n",
              "      <td>72.000000</td>\n",
              "      <td>83.500000</td>\n",
              "      <td>66.255000</td>\n",
              "      <td>300000.000000</td>\n",
              "    </tr>\n",
              "    <tr>\n",
              "      <th>max</th>\n",
              "      <td>215.000000</td>\n",
              "      <td>89.400000</td>\n",
              "      <td>97.700000</td>\n",
              "      <td>91.000000</td>\n",
              "      <td>98.000000</td>\n",
              "      <td>77.890000</td>\n",
              "      <td>940000.000000</td>\n",
              "    </tr>\n",
              "  </tbody>\n",
              "</table>\n",
              "</div>\n",
              "      <button class=\"colab-df-convert\" onclick=\"convertToInteractive('df-b8a8930b-b4a8-4851-8369-c5e956a20ba8')\"\n",
              "              title=\"Convert this dataframe to an interactive table.\"\n",
              "              style=\"display:none;\">\n",
              "        \n",
              "  <svg xmlns=\"http://www.w3.org/2000/svg\" height=\"24px\"viewBox=\"0 0 24 24\"\n",
              "       width=\"24px\">\n",
              "    <path d=\"M0 0h24v24H0V0z\" fill=\"none\"/>\n",
              "    <path d=\"M18.56 5.44l.94 2.06.94-2.06 2.06-.94-2.06-.94-.94-2.06-.94 2.06-2.06.94zm-11 1L8.5 8.5l.94-2.06 2.06-.94-2.06-.94L8.5 2.5l-.94 2.06-2.06.94zm10 10l.94 2.06.94-2.06 2.06-.94-2.06-.94-.94-2.06-.94 2.06-2.06.94z\"/><path d=\"M17.41 7.96l-1.37-1.37c-.4-.4-.92-.59-1.43-.59-.52 0-1.04.2-1.43.59L10.3 9.45l-7.72 7.72c-.78.78-.78 2.05 0 2.83L4 21.41c.39.39.9.59 1.41.59.51 0 1.02-.2 1.41-.59l7.78-7.78 2.81-2.81c.8-.78.8-2.07 0-2.86zM5.41 20L4 18.59l7.72-7.72 1.47 1.35L5.41 20z\"/>\n",
              "  </svg>\n",
              "      </button>\n",
              "      \n",
              "  <style>\n",
              "    .colab-df-container {\n",
              "      display:flex;\n",
              "      flex-wrap:wrap;\n",
              "      gap: 12px;\n",
              "    }\n",
              "\n",
              "    .colab-df-convert {\n",
              "      background-color: #E8F0FE;\n",
              "      border: none;\n",
              "      border-radius: 50%;\n",
              "      cursor: pointer;\n",
              "      display: none;\n",
              "      fill: #1967D2;\n",
              "      height: 32px;\n",
              "      padding: 0 0 0 0;\n",
              "      width: 32px;\n",
              "    }\n",
              "\n",
              "    .colab-df-convert:hover {\n",
              "      background-color: #E2EBFA;\n",
              "      box-shadow: 0px 1px 2px rgba(60, 64, 67, 0.3), 0px 1px 3px 1px rgba(60, 64, 67, 0.15);\n",
              "      fill: #174EA6;\n",
              "    }\n",
              "\n",
              "    [theme=dark] .colab-df-convert {\n",
              "      background-color: #3B4455;\n",
              "      fill: #D2E3FC;\n",
              "    }\n",
              "\n",
              "    [theme=dark] .colab-df-convert:hover {\n",
              "      background-color: #434B5C;\n",
              "      box-shadow: 0px 1px 3px 1px rgba(0, 0, 0, 0.15);\n",
              "      filter: drop-shadow(0px 1px 2px rgba(0, 0, 0, 0.3));\n",
              "      fill: #FFFFFF;\n",
              "    }\n",
              "  </style>\n",
              "\n",
              "      <script>\n",
              "        const buttonEl =\n",
              "          document.querySelector('#df-b8a8930b-b4a8-4851-8369-c5e956a20ba8 button.colab-df-convert');\n",
              "        buttonEl.style.display =\n",
              "          google.colab.kernel.accessAllowed ? 'block' : 'none';\n",
              "\n",
              "        async function convertToInteractive(key) {\n",
              "          const element = document.querySelector('#df-b8a8930b-b4a8-4851-8369-c5e956a20ba8');\n",
              "          const dataTable =\n",
              "            await google.colab.kernel.invokeFunction('convertToInteractive',\n",
              "                                                     [key], {});\n",
              "          if (!dataTable) return;\n",
              "\n",
              "          const docLinkHtml = 'Like what you see? Visit the ' +\n",
              "            '<a target=\"_blank\" href=https://colab.research.google.com/notebooks/data_table.ipynb>data table notebook</a>'\n",
              "            + ' to learn more about interactive tables.';\n",
              "          element.innerHTML = '';\n",
              "          dataTable['output_type'] = 'display_data';\n",
              "          await google.colab.output.renderOutput(dataTable, element);\n",
              "          const docLink = document.createElement('div');\n",
              "          docLink.innerHTML = docLinkHtml;\n",
              "          element.appendChild(docLink);\n",
              "        }\n",
              "      </script>\n",
              "    </div>\n",
              "  </div>\n",
              "  "
            ]
          },
          "metadata": {},
          "execution_count": 10
        }
      ]
    },
    {
      "cell_type": "code",
      "source": [
        "data.info()"
      ],
      "metadata": {
        "colab": {
          "base_uri": "https://localhost:8080/"
        },
        "id": "VNqWjwhBG-4s",
        "outputId": "cd4a9adf-699a-4e55-fde3-cc8c72f1c400"
      },
      "execution_count": null,
      "outputs": [
        {
          "output_type": "stream",
          "name": "stdout",
          "text": [
            "<class 'pandas.core.frame.DataFrame'>\n",
            "RangeIndex: 215 entries, 0 to 214\n",
            "Data columns (total 15 columns):\n",
            " #   Column          Non-Null Count  Dtype  \n",
            "---  ------          --------------  -----  \n",
            " 0   sl_no           215 non-null    int64  \n",
            " 1   gender          215 non-null    object \n",
            " 2   ssc_p           215 non-null    float64\n",
            " 3   ssc_b           215 non-null    object \n",
            " 4   hsc_p           215 non-null    float64\n",
            " 5   hsc_b           215 non-null    object \n",
            " 6   hsc_s           215 non-null    object \n",
            " 7   degree_p        215 non-null    float64\n",
            " 8   degree_t        215 non-null    object \n",
            " 9   workex          215 non-null    object \n",
            " 10  etest_p         215 non-null    float64\n",
            " 11  specialisation  215 non-null    object \n",
            " 12  mba_p           215 non-null    float64\n",
            " 13  status          215 non-null    object \n",
            " 14  salary          148 non-null    float64\n",
            "dtypes: float64(6), int64(1), object(8)\n",
            "memory usage: 25.3+ KB\n"
          ]
        }
      ]
    },
    {
      "cell_type": "code",
      "source": [
        "print(data.mean())"
      ],
      "metadata": {
        "colab": {
          "base_uri": "https://localhost:8080/"
        },
        "id": "ObPdmu8kIiA8",
        "outputId": "4dafd596-a5f8-4118-fb99-676104ff81f9"
      },
      "execution_count": null,
      "outputs": [
        {
          "output_type": "stream",
          "name": "stdout",
          "text": [
            "sl_no          108.000000\n",
            "ssc_p           67.303395\n",
            "hsc_p           66.333163\n",
            "degree_p        66.370186\n",
            "etest_p         72.100558\n",
            "mba_p           62.278186\n",
            "salary      288655.405405\n",
            "dtype: float64\n"
          ]
        },
        {
          "output_type": "stream",
          "name": "stderr",
          "text": [
            "<ipython-input-12-333c16b2968c>:1: FutureWarning: Dropping of nuisance columns in DataFrame reductions (with 'numeric_only=None') is deprecated; in a future version this will raise TypeError.  Select only valid columns before calling the reduction.\n",
            "  print(data.mean())\n"
          ]
        }
      ]
    },
    {
      "cell_type": "code",
      "source": [
        "data = data.fillna(data.median())\n",
        "print(data)"
      ],
      "metadata": {
        "colab": {
          "base_uri": "https://localhost:8080/"
        },
        "id": "iM3A_bZMIiDf",
        "outputId": "4894f67e-e9a4-47f4-944e-0ca4f870d969"
      },
      "execution_count": null,
      "outputs": [
        {
          "output_type": "stream",
          "name": "stdout",
          "text": [
            "     sl_no gender  ssc_p    ssc_b  hsc_p    hsc_b     hsc_s  degree_p  \\\n",
            "0        1      M  67.00   Others  91.00   Others  Commerce     58.00   \n",
            "1        2      M  79.33  Central  78.33   Others   Science     77.48   \n",
            "2        3      M  65.00  Central  68.00  Central      Arts     64.00   \n",
            "3        4      M  56.00  Central  52.00  Central   Science     52.00   \n",
            "4        5      M  85.80  Central  73.60  Central  Commerce     73.30   \n",
            "..     ...    ...    ...      ...    ...      ...       ...       ...   \n",
            "210    211      M  80.60   Others  82.00   Others  Commerce     77.60   \n",
            "211    212      M  58.00   Others  60.00   Others   Science     72.00   \n",
            "212    213      M  67.00   Others  67.00   Others  Commerce     73.00   \n",
            "213    214      F  74.00   Others  66.00   Others  Commerce     58.00   \n",
            "214    215      M  62.00  Central  58.00   Others   Science     53.00   \n",
            "\n",
            "      degree_t workex  etest_p specialisation  mba_p      status    salary  \n",
            "0     Sci&Tech     No     55.0         Mkt&HR  58.80      Placed  270000.0  \n",
            "1     Sci&Tech    Yes     86.5        Mkt&Fin  66.28      Placed  200000.0  \n",
            "2    Comm&Mgmt     No     75.0        Mkt&Fin  57.80      Placed  250000.0  \n",
            "3     Sci&Tech     No     66.0         Mkt&HR  59.43  Not Placed  265000.0  \n",
            "4    Comm&Mgmt     No     96.8        Mkt&Fin  55.50      Placed  425000.0  \n",
            "..         ...    ...      ...            ...    ...         ...       ...  \n",
            "210  Comm&Mgmt     No     91.0        Mkt&Fin  74.49      Placed  400000.0  \n",
            "211   Sci&Tech     No     74.0        Mkt&Fin  53.62      Placed  275000.0  \n",
            "212  Comm&Mgmt    Yes     59.0        Mkt&Fin  69.72      Placed  295000.0  \n",
            "213  Comm&Mgmt     No     70.0         Mkt&HR  60.23      Placed  204000.0  \n",
            "214  Comm&Mgmt     No     89.0         Mkt&HR  60.22  Not Placed  265000.0  \n",
            "\n",
            "[215 rows x 15 columns]\n"
          ]
        },
        {
          "output_type": "stream",
          "name": "stderr",
          "text": [
            "<ipython-input-13-441582818050>:1: FutureWarning: Dropping of nuisance columns in DataFrame reductions (with 'numeric_only=None') is deprecated; in a future version this will raise TypeError.  Select only valid columns before calling the reduction.\n",
            "  data = data.fillna(data.median())\n"
          ]
        }
      ]
    },
    {
      "cell_type": "code",
      "source": [
        "categorical_columns = data.select_dtypes(exclude = 'number').drop('status', axis = 1).columns\n",
        "\n",
        "print(categorical_columns)"
      ],
      "metadata": {
        "colab": {
          "base_uri": "https://localhost:8080/"
        },
        "id": "8z7HwgNBIiFr",
        "outputId": "18b6c972-2e04-4056-df0b-b9d5b230d6ee"
      },
      "execution_count": null,
      "outputs": [
        {
          "output_type": "stream",
          "name": "stdout",
          "text": [
            "Index(['gender', 'ssc_b', 'hsc_b', 'hsc_s', 'degree_t', 'workex',\n",
            "       'specialisation'],\n",
            "      dtype='object')\n"
          ]
        }
      ]
    },
    {
      "cell_type": "code",
      "source": [
        "X = data.iloc[:,[2,4,7,10,12,14]].values\n",
        "Y = data.iloc[:,13].values\n",
        "print(X)\n",
        "print(Y)\n"
      ],
      "metadata": {
        "colab": {
          "base_uri": "https://localhost:8080/"
        },
        "id": "wTISYRU0IiJE",
        "outputId": "6bb77b05-c166-4f02-ceb7-dae84f4c032e"
      },
      "execution_count": null,
      "outputs": [
        {
          "output_type": "stream",
          "name": "stdout",
          "text": [
            "[[6.700e+01 9.100e+01 5.800e+01 5.500e+01 5.880e+01 2.700e+05]\n",
            " [7.933e+01 7.833e+01 7.748e+01 8.650e+01 6.628e+01 2.000e+05]\n",
            " [6.500e+01 6.800e+01 6.400e+01 7.500e+01 5.780e+01 2.500e+05]\n",
            " ...\n",
            " [6.700e+01 6.700e+01 7.300e+01 5.900e+01 6.972e+01 2.950e+05]\n",
            " [7.400e+01 6.600e+01 5.800e+01 7.000e+01 6.023e+01 2.040e+05]\n",
            " [6.200e+01 5.800e+01 5.300e+01 8.900e+01 6.022e+01 2.650e+05]]\n",
            "['Placed' 'Placed' 'Placed' 'Not Placed' 'Placed' 'Not Placed'\n",
            " 'Not Placed' 'Placed' 'Placed' 'Not Placed' 'Placed' 'Placed'\n",
            " 'Not Placed' 'Placed' 'Not Placed' 'Placed' 'Placed' 'Not Placed'\n",
            " 'Not Placed' 'Placed' 'Placed' 'Placed' 'Placed' 'Placed' 'Placed'\n",
            " 'Not Placed' 'Placed' 'Placed' 'Placed' 'Not Placed' 'Placed'\n",
            " 'Not Placed' 'Placed' 'Placed' 'Not Placed' 'Placed' 'Not Placed'\n",
            " 'Placed' 'Placed' 'Placed' 'Placed' 'Not Placed' 'Not Placed' 'Placed'\n",
            " 'Placed' 'Not Placed' 'Not Placed' 'Placed' 'Placed' 'Not Placed'\n",
            " 'Placed' 'Not Placed' 'Not Placed' 'Placed' 'Placed' 'Placed' 'Placed'\n",
            " 'Placed' 'Placed' 'Placed' 'Placed' 'Placed' 'Placed' 'Not Placed'\n",
            " 'Placed' 'Not Placed' 'Placed' 'Placed' 'Not Placed' 'Placed' 'Placed'\n",
            " 'Placed' 'Placed' 'Placed' 'Placed' 'Not Placed' 'Placed' 'Placed'\n",
            " 'Placed' 'Not Placed' 'Placed' 'Placed' 'Not Placed' 'Placed' 'Placed'\n",
            " 'Placed' 'Placed' 'Not Placed' 'Placed' 'Placed' 'Placed' 'Not Placed'\n",
            " 'Placed' 'Not Placed' 'Placed' 'Placed' 'Placed' 'Not Placed' 'Placed'\n",
            " 'Not Placed' 'Not Placed' 'Placed' 'Placed' 'Placed' 'Placed'\n",
            " 'Not Placed' 'Not Placed' 'Placed' 'Placed' 'Not Placed' 'Placed'\n",
            " 'Not Placed' 'Placed' 'Placed' 'Placed' 'Placed' 'Placed' 'Placed'\n",
            " 'Placed' 'Placed' 'Not Placed' 'Placed' 'Placed' 'Placed' 'Placed'\n",
            " 'Placed' 'Placed' 'Placed' 'Placed' 'Placed' 'Not Placed' 'Placed'\n",
            " 'Placed' 'Placed' 'Placed' 'Placed' 'Not Placed' 'Placed' 'Placed'\n",
            " 'Placed' 'Placed' 'Not Placed' 'Placed' 'Placed' 'Not Placed' 'Placed'\n",
            " 'Placed' 'Placed' 'Placed' 'Not Placed' 'Placed' 'Placed' 'Placed'\n",
            " 'Placed' 'Placed' 'Not Placed' 'Placed' 'Placed' 'Not Placed'\n",
            " 'Not Placed' 'Placed' 'Not Placed' 'Placed' 'Placed' 'Placed'\n",
            " 'Not Placed' 'Placed' 'Not Placed' 'Not Placed' 'Not Placed' 'Not Placed'\n",
            " 'Placed' 'Placed' 'Not Placed' 'Placed' 'Not Placed' 'Placed' 'Placed'\n",
            " 'Placed' 'Not Placed' 'Placed' 'Not Placed' 'Not Placed' 'Placed'\n",
            " 'Not Placed' 'Placed' 'Not Placed' 'Placed' 'Not Placed' 'Not Placed'\n",
            " 'Not Placed' 'Placed' 'Placed' 'Placed' 'Not Placed' 'Placed' 'Placed'\n",
            " 'Placed' 'Not Placed' 'Placed' 'Placed' 'Not Placed' 'Placed' 'Placed'\n",
            " 'Placed' 'Placed' 'Not Placed' 'Placed' 'Not Placed' 'Placed' 'Placed'\n",
            " 'Placed' 'Placed' 'Placed' 'Not Placed']\n"
          ]
        }
      ]
    },
    {
      "cell_type": "code",
      "source": [
        "len(data)"
      ],
      "metadata": {
        "colab": {
          "base_uri": "https://localhost:8080/"
        },
        "id": "FMJ4R0AuIiXT",
        "outputId": "1f0e1f4d-8120-4823-ca5a-12fb3754bf09"
      },
      "execution_count": null,
      "outputs": [
        {
          "output_type": "execute_result",
          "data": {
            "text/plain": [
              "215"
            ]
          },
          "metadata": {},
          "execution_count": 16
        }
      ]
    },
    {
      "cell_type": "code",
      "source": [
        "data.isnull().sum()"
      ],
      "metadata": {
        "colab": {
          "base_uri": "https://localhost:8080/"
        },
        "id": "ajKeuLGPJTPQ",
        "outputId": "d946514e-e5cc-4b64-9ecc-31e6deefb956"
      },
      "execution_count": null,
      "outputs": [
        {
          "output_type": "execute_result",
          "data": {
            "text/plain": [
              "sl_no             0\n",
              "gender            0\n",
              "ssc_p             0\n",
              "ssc_b             0\n",
              "hsc_p             0\n",
              "hsc_b             0\n",
              "hsc_s             0\n",
              "degree_p          0\n",
              "degree_t          0\n",
              "workex            0\n",
              "etest_p           0\n",
              "specialisation    0\n",
              "mba_p             0\n",
              "status            0\n",
              "salary            0\n",
              "dtype: int64"
            ]
          },
          "metadata": {},
          "execution_count": 17
        }
      ]
    },
    {
      "cell_type": "code",
      "source": [
        "from sklearn.impute import SimpleImputer\n",
        "imputer = SimpleImputer(missing_values=np.nan, strategy='mean')\n",
        "imputer.fit(X[:,[5]])\n",
        "X[:,[5]] = imputer.transform(X[:,[5]])\n",
        "print(X)"
      ],
      "metadata": {
        "colab": {
          "base_uri": "https://localhost:8080/"
        },
        "id": "H38HNOO4JTb_",
        "outputId": "7422efb0-820d-4f6f-c7e3-7e2b7162c45f"
      },
      "execution_count": null,
      "outputs": [
        {
          "output_type": "stream",
          "name": "stdout",
          "text": [
            "[[6.700e+01 9.100e+01 5.800e+01 5.500e+01 5.880e+01 2.700e+05]\n",
            " [7.933e+01 7.833e+01 7.748e+01 8.650e+01 6.628e+01 2.000e+05]\n",
            " [6.500e+01 6.800e+01 6.400e+01 7.500e+01 5.780e+01 2.500e+05]\n",
            " ...\n",
            " [6.700e+01 6.700e+01 7.300e+01 5.900e+01 6.972e+01 2.950e+05]\n",
            " [7.400e+01 6.600e+01 5.800e+01 7.000e+01 6.023e+01 2.040e+05]\n",
            " [6.200e+01 5.800e+01 5.300e+01 8.900e+01 6.022e+01 2.650e+05]]\n"
          ]
        }
      ]
    },
    {
      "cell_type": "code",
      "source": [
        "plt.rcParams['figure.figsize']=15,6\n",
        "sns.set_style(\"darkgrid\")\n",
        "\n",
        "x = data.iloc[:,[2,4,7,10,12,14]]\n",
        "\n",
        "from sklearn.ensemble import ExtraTreesClassifier\n",
        "import matplotlib.pyplot as plt\n",
        "model = ExtraTreesClassifier()\n",
        "model.fit(X,Y)\n",
        "print(model.feature_importances_)\n",
        "feat_importances = pd.Series(model.feature_importances_, index=x.columns)\n",
        "feat_importances.nlargest(12).plot(kind='barh')\n",
        "plt.show()"
      ],
      "metadata": {
        "colab": {
          "base_uri": "https://localhost:8080/",
          "height": 373
        },
        "id": "h0Mth0fGJif-",
        "outputId": "897f657d-1649-42bd-fdde-d0a58e7b81b4"
      },
      "execution_count": null,
      "outputs": [
        {
          "output_type": "stream",
          "name": "stdout",
          "text": [
            "[0.26365976 0.18366102 0.15953587 0.06802618 0.10502974 0.22008743]\n"
          ]
        },
        {
          "output_type": "display_data",
          "data": {
            "text/plain": [
              "<Figure size 1080x432 with 1 Axes>"
            ],
            "image/png": "[encoded data removed]"
          },
          "metadata": {}
        }
      ]
    },
    {
      "cell_type": "code",
      "source": [
        "from scipy.stats import chi2_contingency\n",
        "chi2_check = []\n",
        "for i in categorical_columns:\n",
        "    if chi2_contingency(pd.crosstab(data['status'], data[i]))[1] < 0.05:\n",
        "        chi2_check.append('Reject Null Hypothesis')\n",
        "    else:\n",
        "        chi2_check.append('Fail to Reject Null Hypothesis')\n",
        "res = pd.DataFrame(data = [categorical_columns, chi2_check]\n",
        "             ).T\n",
        "res.columns = ['Column', 'Hypothesis']\n",
        "print(res)"
      ],
      "metadata": {
        "colab": {
          "base_uri": "https://localhost:8080/"
        },
        "id": "SVuytEJ6Jiii",
        "outputId": "a0831c24-29de-48c8-e009-3edca2835ee9"
      },
      "execution_count": null,
      "outputs": [
        {
          "output_type": "stream",
          "name": "stdout",
          "text": [
            "           Column                      Hypothesis\n",
            "0          gender  Fail to Reject Null Hypothesis\n",
            "1           ssc_b  Fail to Reject Null Hypothesis\n",
            "2           hsc_b  Fail to Reject Null Hypothesis\n",
            "3           hsc_s  Fail to Reject Null Hypothesis\n",
            "4        degree_t  Fail to Reject Null Hypothesis\n",
            "5          workex          Reject Null Hypothesis\n",
            "6  specialisation          Reject Null Hypothesis\n"
          ]
        }
      ]
    },
    {
      "cell_type": "code",
      "source": [
        "X = data.iloc[:,[2,9,11,14]].values\n",
        "imputer = SimpleImputer(missing_values=np.nan, strategy='mean')\n",
        "imputer.fit(X[:,[3]])\n",
        "X[:,[3]] = imputer.transform(X[:,[3]])"
      ],
      "metadata": {
        "id": "FkQJUsp6Jik9"
      },
      "execution_count": null,
      "outputs": []
    },
    {
      "cell_type": "code",
      "source": [
        "corr = data.corr()\n",
        "corr.style.background_gradient(cmap='CMRmap_r').set_precision(2)\n"
      ],
      "metadata": {
        "colab": {
          "base_uri": "https://localhost:8080/",
          "height": 324
        },
        "id": "LSQCEm1xdNdj",
        "outputId": "cc811dd4-e621-4f48-a591-27f9a3bf4704"
      },
      "execution_count": null,
      "outputs": [
        {
          "output_type": "stream",
          "name": "stderr",
          "text": [
            "<ipython-input-22-d9dc673080ac>:2: FutureWarning: this method is deprecated in favour of `Styler.format(precision=..)`\n",
            "  corr.style.background_gradient(cmap='CMRmap_r').set_precision(2)\n"
          ]
        },
        {
          "output_type": "execute_result",
          "data": {
            "text/plain": [
              "<pandas.io.formats.style.Styler at 0x7f0f03f4e190>"
            ],
            "text/html": [
              "<style type=\"text/css\">\n",
              "#T_7206f_row0_col0, #T_7206f_row1_col1, #T_7206f_row2_col2, #T_7206f_row3_col3, #T_7206f_row4_col4, #T_7206f_row5_col5, #T_7206f_row6_col6 {\n",
              "  background-color: #000000;\n",
              "  color: #f1f1f1;\n",
              "}\n",
              "#T_7206f_row0_col1, #T_7206f_row0_col2, #T_7206f_row0_col3, #T_7206f_row0_col4, #T_7206f_row0_col5, #T_7206f_row0_col6, #T_7206f_row2_col0, #T_7206f_row3_col0 {\n",
              "  background-color: #ffffff;\n",
              "  color: #000000;\n",
              "}\n",
              "#T_7206f_row1_col0 {\n",
              "  background-color: #fdfdf7;\n",
              "  color: #000000;\n",
              "}\n",
              "#T_7206f_row1_col2, #T_7206f_row2_col1 {\n",
              "  background-color: #d73b49;\n",
              "  color: #f1f1f1;\n",
              "}\n",
              "#T_7206f_row1_col3 {\n",
              "  background-color: #c1385d;\n",
              "  color: #f1f1f1;\n",
              "}\n",
              "#T_7206f_row1_col4 {\n",
              "  background-color: #e6cb39;\n",
              "  color: #000000;\n",
              "}\n",
              "#T_7206f_row1_col5 {\n",
              "  background-color: #e68101;\n",
              "  color: #f1f1f1;\n",
              "}\n",
              "#T_7206f_row1_col6 {\n",
              "  background-color: #f2f2bf;\n",
              "  color: #000000;\n",
              "}\n",
              "#T_7206f_row2_col3, #T_7206f_row3_col2 {\n",
              "  background-color: #fb4b20;\n",
              "  color: #f1f1f1;\n",
              "}\n",
              "#T_7206f_row2_col4, #T_7206f_row6_col2 {\n",
              "  background-color: #e6d149;\n",
              "  color: #000000;\n",
              "}\n",
              "#T_7206f_row2_col5 {\n",
              "  background-color: #e69107;\n",
              "  color: #f1f1f1;\n",
              "}\n",
              "#T_7206f_row2_col6 {\n",
              "  background-color: #efefaf;\n",
              "  color: #000000;\n",
              "}\n",
              "#T_7206f_row3_col1 {\n",
              "  background-color: #c4385a;\n",
              "  color: #f1f1f1;\n",
              "}\n",
              "#T_7206f_row3_col4 {\n",
              "  background-color: #e6d85c;\n",
              "  color: #000000;\n",
              "}\n",
              "#T_7206f_row3_col5 {\n",
              "  background-color: #e87904;\n",
              "  color: #f1f1f1;\n",
              "}\n",
              "#T_7206f_row3_col6 {\n",
              "  background-color: #fefefb;\n",
              "  color: #000000;\n",
              "}\n",
              "#T_7206f_row4_col0 {\n",
              "  background-color: #e6e276;\n",
              "  color: #000000;\n",
              "}\n",
              "#T_7206f_row4_col1 {\n",
              "  background-color: #e69f0d;\n",
              "  color: #000000;\n",
              "}\n",
              "#T_7206f_row4_col2 {\n",
              "  background-color: #e6a30e;\n",
              "  color: #000000;\n",
              "}\n",
              "#T_7206f_row4_col3 {\n",
              "  background-color: #e6ad12;\n",
              "  color: #000000;\n",
              "}\n",
              "#T_7206f_row4_col5 {\n",
              "  background-color: #e6cf42;\n",
              "  color: #000000;\n",
              "}\n",
              "#T_7206f_row4_col6 {\n",
              "  background-color: #e6e57f;\n",
              "  color: #000000;\n",
              "}\n",
              "#T_7206f_row5_col0 {\n",
              "  background-color: #eaea97;\n",
              "  color: #000000;\n",
              "}\n",
              "#T_7206f_row5_col1 {\n",
              "  background-color: #f16311;\n",
              "  color: #f1f1f1;\n",
              "}\n",
              "#T_7206f_row5_col2 {\n",
              "  background-color: #eb7109;\n",
              "  color: #f1f1f1;\n",
              "}\n",
              "#T_7206f_row5_col3 {\n",
              "  background-color: #f55917;\n",
              "  color: #f1f1f1;\n",
              "}\n",
              "#T_7206f_row5_col4 {\n",
              "  background-color: #e6d95f;\n",
              "  color: #000000;\n",
              "}\n",
              "#T_7206f_row5_col6 {\n",
              "  background-color: #e8e88b;\n",
              "  color: #000000;\n",
              "}\n",
              "#T_7206f_row6_col0 {\n",
              "  background-color: #e6e683;\n",
              "  color: #000000;\n",
              "}\n",
              "#T_7206f_row6_col1 {\n",
              "  background-color: #e6d759;\n",
              "  color: #000000;\n",
              "}\n",
              "#T_7206f_row6_col3 {\n",
              "  background-color: #e6e47c;\n",
              "  color: #000000;\n",
              "}\n",
              "#T_7206f_row6_col4 {\n",
              "  background-color: #e9e98f;\n",
              "  color: #000000;\n",
              "}\n",
              "#T_7206f_row6_col5 {\n",
              "  background-color: #e6e379;\n",
              "  color: #000000;\n",
              "}\n",
              "</style>\n",
              "<table id=\"T_7206f_\" class=\"dataframe\">\n",
              "  <thead>\n",
              "    <tr>\n",
              "      <th class=\"blank level0\" >&nbsp;</th>\n",
              "      <th class=\"col_heading level0 col0\" >sl_no</th>\n",
              "      <th class=\"col_heading level0 col1\" >ssc_p</th>\n",
              "      <th class=\"col_heading level0 col2\" >hsc_p</th>\n",
              "      <th class=\"col_heading level0 col3\" >degree_p</th>\n",
              "      <th class=\"col_heading level0 col4\" >etest_p</th>\n",
              "      <th class=\"col_heading level0 col5\" >mba_p</th>\n",
              "      <th class=\"col_heading level0 col6\" >salary</th>\n",
              "    </tr>\n",
              "  </thead>\n",
              "  <tbody>\n",
              "    <tr>\n",
              "      <th id=\"T_7206f_level0_row0\" class=\"row_heading level0 row0\" >sl_no</th>\n",
              "      <td id=\"T_7206f_row0_col0\" class=\"data row0 col0\" >1.00</td>\n",
              "      <td id=\"T_7206f_row0_col1\" class=\"data row0 col1\" >-0.08</td>\n",
              "      <td id=\"T_7206f_row0_col2\" class=\"data row0 col2\" >-0.09</td>\n",
              "      <td id=\"T_7206f_row0_col3\" class=\"data row0 col3\" >-0.09</td>\n",
              "      <td id=\"T_7206f_row0_col4\" class=\"data row0 col4\" >0.06</td>\n",
              "      <td id=\"T_7206f_row0_col5\" class=\"data row0 col5\" >0.02</td>\n",
              "      <td id=\"T_7206f_row0_col6\" class=\"data row0 col6\" >0.05</td>\n",
              "    </tr>\n",
              "    <tr>\n",
              "      <th id=\"T_7206f_level0_row1\" class=\"row_heading level0 row1\" >ssc_p</th>\n",
              "      <td id=\"T_7206f_row1_col0\" class=\"data row1 col0\" >-0.08</td>\n",
              "      <td id=\"T_7206f_row1_col1\" class=\"data row1 col1\" >1.00</td>\n",
              "      <td id=\"T_7206f_row1_col2\" class=\"data row1 col2\" >0.51</td>\n",
              "      <td id=\"T_7206f_row1_col3\" class=\"data row1 col3\" >0.54</td>\n",
              "      <td id=\"T_7206f_row1_col4\" class=\"data row1 col4\" >0.26</td>\n",
              "      <td id=\"T_7206f_row1_col5\" class=\"data row1 col5\" >0.39</td>\n",
              "      <td id=\"T_7206f_row1_col6\" class=\"data row1 col6\" >0.11</td>\n",
              "    </tr>\n",
              "    <tr>\n",
              "      <th id=\"T_7206f_level0_row2\" class=\"row_heading level0 row2\" >hsc_p</th>\n",
              "      <td id=\"T_7206f_row2_col0\" class=\"data row2 col0\" >-0.09</td>\n",
              "      <td id=\"T_7206f_row2_col1\" class=\"data row2 col1\" >0.51</td>\n",
              "      <td id=\"T_7206f_row2_col2\" class=\"data row2 col2\" >1.00</td>\n",
              "      <td id=\"T_7206f_row2_col3\" class=\"data row2 col3\" >0.43</td>\n",
              "      <td id=\"T_7206f_row2_col4\" class=\"data row2 col4\" >0.25</td>\n",
              "      <td id=\"T_7206f_row2_col5\" class=\"data row2 col5\" >0.35</td>\n",
              "      <td id=\"T_7206f_row2_col6\" class=\"data row2 col6\" >0.12</td>\n",
              "    </tr>\n",
              "    <tr>\n",
              "      <th id=\"T_7206f_level0_row3\" class=\"row_heading level0 row3\" >degree_p</th>\n",
              "      <td id=\"T_7206f_row3_col0\" class=\"data row3 col0\" >-0.09</td>\n",
              "      <td id=\"T_7206f_row3_col1\" class=\"data row3 col1\" >0.54</td>\n",
              "      <td id=\"T_7206f_row3_col2\" class=\"data row3 col2\" >0.43</td>\n",
              "      <td id=\"T_7206f_row3_col3\" class=\"data row3 col3\" >1.00</td>\n",
              "      <td id=\"T_7206f_row3_col4\" class=\"data row3 col4\" >0.22</td>\n",
              "      <td id=\"T_7206f_row3_col5\" class=\"data row3 col5\" >0.40</td>\n",
              "      <td id=\"T_7206f_row3_col6\" class=\"data row3 col6\" >0.05</td>\n",
              "    </tr>\n",
              "    <tr>\n",
              "      <th id=\"T_7206f_level0_row4\" class=\"row_heading level0 row4\" >etest_p</th>\n",
              "      <td id=\"T_7206f_row4_col0\" class=\"data row4 col0\" >0.06</td>\n",
              "      <td id=\"T_7206f_row4_col1\" class=\"data row4 col1\" >0.26</td>\n",
              "      <td id=\"T_7206f_row4_col2\" class=\"data row4 col2\" >0.25</td>\n",
              "      <td id=\"T_7206f_row4_col3\" class=\"data row4 col3\" >0.22</td>\n",
              "      <td id=\"T_7206f_row4_col4\" class=\"data row4 col4\" >1.00</td>\n",
              "      <td id=\"T_7206f_row4_col5\" class=\"data row4 col5\" >0.22</td>\n",
              "      <td id=\"T_7206f_row4_col6\" class=\"data row4 col6\" >0.17</td>\n",
              "    </tr>\n",
              "    <tr>\n",
              "      <th id=\"T_7206f_level0_row5\" class=\"row_heading level0 row5\" >mba_p</th>\n",
              "      <td id=\"T_7206f_row5_col0\" class=\"data row5 col0\" >0.02</td>\n",
              "      <td id=\"T_7206f_row5_col1\" class=\"data row5 col1\" >0.39</td>\n",
              "      <td id=\"T_7206f_row5_col2\" class=\"data row5 col2\" >0.35</td>\n",
              "      <td id=\"T_7206f_row5_col3\" class=\"data row5 col3\" >0.40</td>\n",
              "      <td id=\"T_7206f_row5_col4\" class=\"data row5 col4\" >0.22</td>\n",
              "      <td id=\"T_7206f_row5_col5\" class=\"data row5 col5\" >1.00</td>\n",
              "      <td id=\"T_7206f_row5_col6\" class=\"data row5 col6\" >0.16</td>\n",
              "    </tr>\n",
              "    <tr>\n",
              "      <th id=\"T_7206f_level0_row6\" class=\"row_heading level0 row6\" >salary</th>\n",
              "      <td id=\"T_7206f_row6_col0\" class=\"data row6 col0\" >0.05</td>\n",
              "      <td id=\"T_7206f_row6_col1\" class=\"data row6 col1\" >0.11</td>\n",
              "      <td id=\"T_7206f_row6_col2\" class=\"data row6 col2\" >0.12</td>\n",
              "      <td id=\"T_7206f_row6_col3\" class=\"data row6 col3\" >0.05</td>\n",
              "      <td id=\"T_7206f_row6_col4\" class=\"data row6 col4\" >0.17</td>\n",
              "      <td id=\"T_7206f_row6_col5\" class=\"data row6 col5\" >0.16</td>\n",
              "      <td id=\"T_7206f_row6_col6\" class=\"data row6 col6\" >1.00</td>\n",
              "    </tr>\n",
              "  </tbody>\n",
              "</table>\n"
            ]
          },
          "metadata": {},
          "execution_count": 22
        }
      ]
    },
    {
      "cell_type": "code",
      "source": [
        "print(data['workex'].unique())\n",
        "print(data['specialisation'].unique())\n",
        "print(data['status'].unique())"
      ],
      "metadata": {
        "colab": {
          "base_uri": "https://localhost:8080/"
        },
        "id": "IptkchHWJioi",
        "outputId": "b0e470e5-7d56-4497-c8f3-930dc67a4324"
      },
      "execution_count": null,
      "outputs": [
        {
          "output_type": "stream",
          "name": "stdout",
          "text": [
            "['No' 'Yes']\n",
            "['Mkt&HR' 'Mkt&Fin']\n",
            "['Placed' 'Not Placed']\n"
          ]
        }
      ]
    },
    {
      "cell_type": "code",
      "source": [
        "from sklearn.preprocessing import LabelEncoder\n",
        "le1 = LabelEncoder()\n",
        "X[:,1] = le1.fit_transform(X[:, 1])\n",
        "le2 = LabelEncoder()\n",
        "X[:,2] = le2.fit_transform(X[:, 2])\n",
        "le3 = LabelEncoder()\n",
        "Y = le3.fit_transform(Y)"
      ],
      "metadata": {
        "id": "-PAxK8JHKH_1"
      },
      "execution_count": null,
      "outputs": []
    },
    {
      "cell_type": "code",
      "source": [
        "print(X[0])"
      ],
      "metadata": {
        "colab": {
          "base_uri": "https://localhost:8080/"
        },
        "id": "jW8AVYWIKICW",
        "outputId": "9cac789b-61e3-4064-e35d-47b590ad4ad9"
      },
      "execution_count": null,
      "outputs": [
        {
          "output_type": "stream",
          "name": "stdout",
          "text": [
            "[67.0 0 1 270000.0]\n"
          ]
        }
      ]
    },
    {
      "cell_type": "code",
      "source": [
        "print(Y)"
      ],
      "metadata": {
        "colab": {
          "base_uri": "https://localhost:8080/"
        },
        "id": "_mIGSHZpKIFG",
        "outputId": "d457526b-f48f-4e59-f0c4-27f75a6bd954"
      },
      "execution_count": null,
      "outputs": [
        {
          "output_type": "stream",
          "name": "stdout",
          "text": [
            "[1 1 1 0 1 0 0 1 1 0 1 1 0 1 0 1 1 0 0 1 1 1 1 1 1 0 1 1 1 0 1 0 1 1 0 1 0\n",
            " 1 1 1 1 0 0 1 1 0 0 1 1 0 1 0 0 1 1 1 1 1 1 1 1 1 1 0 1 0 1 1 0 1 1 1 1 1\n",
            " 1 0 1 1 1 0 1 1 0 1 1 1 1 0 1 1 1 0 1 0 1 1 1 0 1 0 0 1 1 1 1 0 0 1 1 0 1\n",
            " 0 1 1 1 1 1 1 1 1 0 1 1 1 1 1 1 1 1 1 0 1 1 1 1 1 0 1 1 1 1 0 1 1 0 1 1 1\n",
            " 1 0 1 1 1 1 1 0 1 1 0 0 1 0 1 1 1 0 1 0 0 0 0 1 1 0 1 0 1 1 1 0 1 0 0 1 0\n",
            " 1 0 1 0 0 0 1 1 1 0 1 1 1 0 1 1 0 1 1 1 1 0 1 0 1 1 1 1 1 0]\n"
          ]
        }
      ]
    },
    {
      "cell_type": "code",
      "source": [
        "from sklearn.model_selection import train_test_split\n",
        "X_train, X_test, y_train, y_test = train_test_split(X, Y, test_size = 0.2, random_state=1)"
      ],
      "metadata": {
        "id": "WZY3VpCAKIH4"
      },
      "execution_count": null,
      "outputs": []
    },
    {
      "cell_type": "code",
      "source": [],
      "metadata": {
        "id": "d7yURr6fcL4v"
      },
      "execution_count": null,
      "outputs": []
    },
    {
      "cell_type": "code",
      "source": [
        "from sklearn.preprocessing import StandardScaler\n",
        "sc = StandardScaler()\n",
        "X_train[:,[0,3]] = sc.fit_transform(X_train[:,[0,3]])\n",
        "X_test[:,[0,3]] = sc.transform(X_test[:,[0,3]])"
      ],
      "metadata": {
        "id": "M5Hr47ZbKIKo"
      },
      "execution_count": null,
      "outputs": []
    },
    {
      "cell_type": "code",
      "source": [
        "from sklearn.linear_model import LogisticRegression\n",
        "from sklearn.svm import SVC\n",
        "from sklearn.tree import DecisionTreeClassifier\n",
        "from sklearn.ensemble import RandomForestClassifier\n",
        "from sklearn.neighbors import KNeighborsClassifier"
      ],
      "metadata": {
        "id": "LbzjOF6HKIOO"
      },
      "execution_count": null,
      "outputs": []
    },
    {
      "cell_type": "code",
      "source": [
        "#Logistic Regression\n",
        "regressor= LogisticRegression()\n",
        "regressor.fit(X_train,y_train)\n",
        "y_pred=regressor.predict(X_test)\n",
        "x_pred=regressor.predict(X_train)\n",
        "print(\" Logistic Regression Test Score:\",regressor.score(X_test,y_test))\n",
        "print(\" Logistic Regression Train Score:\",regressor.score(X_train,y_train))\n",
        "\n"
      ],
      "metadata": {
        "colab": {
          "base_uri": "https://localhost:8080/"
        },
        "id": "iqw7SmUbOwlr",
        "outputId": "b7961103-9d9c-4d81-f672-e063aee19218"
      },
      "execution_count": null,
      "outputs": [
        {
          "output_type": "stream",
          "name": "stdout",
          "text": [
            " Logistic Regression Test Score: 0.7441860465116279\n",
            " Logistic Regression Train Score: 0.8488372093023255\n"
          ]
        }
      ]
    },
    {
      "cell_type": "code",
      "source": [
        "print(\"Support Vector Machine\")\n",
        "classifier = SVC(kernel='linear', random_state=5)\n",
        "classifier.fit(X_train, y_train)\n",
        "y_pred= classifier.predict(X_test)\n",
        "\n",
        "print(\" SVM Test Score:\",classifier.score(X_test,y_test))\n",
        "print(\" SVM Train Score:\",classifier.score(X_train,y_train))\n",
        "\n",
        "\n"
      ],
      "metadata": {
        "colab": {
          "base_uri": "https://localhost:8080/"
        },
        "id": "Qi5AOWjzOwrz",
        "outputId": "ff345cab-215a-4845-8a1c-b1407ed7eef4"
      },
      "execution_count": null,
      "outputs": [
        {
          "output_type": "stream",
          "name": "stdout",
          "text": [
            "Support Vector Machine\n",
            " SVM Test Score: 0.7441860465116279\n",
            " SVM Train Score: 0.8546511627906976\n"
          ]
        }
      ]
    },
    {
      "cell_type": "code",
      "source": [
        "print(\"KNN Algotithm\")\n",
        "from sklearn.neighbors import KNeighborsClassifier\n",
        "classifier= KNeighborsClassifier(n_neighbors=5, metric='minkowski', p=2 )\n",
        "classifier.fit(X_train, y_train)\n",
        "y_pred= classifier.predict(X_test)\n",
        "print(\" KNN Test Score:\",classifier.score(X_test,y_test))\n",
        "print(\" KNN Train Score:\",classifier.score(X_train,y_train))"
      ],
      "metadata": {
        "colab": {
          "base_uri": "https://localhost:8080/"
        },
        "id": "WohRDEA8d5DI",
        "outputId": "3563f492-98cc-4d5e-aa17-1d5ec8274ed6"
      },
      "execution_count": null,
      "outputs": [
        {
          "output_type": "stream",
          "name": "stdout",
          "text": [
            "KNN Algotithm\n",
            " KNN Test Score: 0.7906976744186046\n",
            " KNN Train Score: 0.9127906976744186\n"
          ]
        }
      ]
    },
    {
      "cell_type": "code",
      "source": [
        "print(\"Decision Tree Classifier\")\n",
        "classifier= DecisionTreeClassifier(criterion='entropy', random_state=0)\n",
        "classifier.fit(X_train, y_train)\n",
        "y_pred= classifier.predict(X_test)\n",
        "print(\" Decision Tree Test Score:\",classifier.score(X_test,y_test))\n",
        "print(\" Decision Tree Train Score:\",classifier.score(X_train,y_train))"
      ],
      "metadata": {
        "colab": {
          "base_uri": "https://localhost:8080/"
        },
        "id": "IDE1Hu4ed5RP",
        "outputId": "5f42644f-f6dc-4179-9858-0c34cb0ff954"
      },
      "execution_count": null,
      "outputs": [
        {
          "output_type": "stream",
          "name": "stdout",
          "text": [
            "Decision Tree Classifier\n",
            " Decision Tree Test Score: 0.9767441860465116\n",
            " Decision Tree Train Score: 0.9825581395348837\n"
          ]
        }
      ]
    },
    {
      "cell_type": "code",
      "source": [
        "print(\"Random Forest Classifier\")\n",
        "classifier= RandomForestClassifier(n_estimators= 10, criterion=\"entropy\")\n",
        "classifier.fit(X_train, y_train)\n",
        "y_pred= classifier.predict(X_test)\n",
        "print(\" Random Forest Test Score:\",classifier.score(X_test,y_test))\n",
        "print(\" Random Forest Train Score:\",classifier.score(X_train,y_train))\n"
      ],
      "metadata": {
        "colab": {
          "base_uri": "https://localhost:8080/"
        },
        "id": "WDm5S1oTg0H_",
        "outputId": "bafad9e9-0162-41f2-9cd9-2e9aac7b02a8"
      },
      "execution_count": null,
      "outputs": [
        {
          "output_type": "stream",
          "name": "stdout",
          "text": [
            "Random Forest Classifier\n",
            " Random Forest Test Score: 0.9302325581395349\n",
            " Random Forest Train Score: 0.9767441860465116\n"
          ]
        }
      ]
    },
    {
      "cell_type": "code",
      "source": [
        "names = [\n",
        "    \"Logistic Regression\",\n",
        "    \"Support Vector Machine\",\n",
        "    \"Decision Tree\",\n",
        "    \"Random Forest\",\n",
        "    \"KNeighborsClassifier\"\n",
        "]\n",
        "models = [\n",
        "    LogisticRegression(),\n",
        "    SVC(),\n",
        "    DecisionTreeClassifier(),\n",
        "    RandomForestClassifier(),\n",
        "    KNeighborsClassifier(n_neighbors=5, p=2, metric='minkowski')\n",
        "]\n"
      ],
      "metadata": {
        "id": "EE0KSwgdg0RD"
      },
      "execution_count": null,
      "outputs": []
    },
    {
      "cell_type": "code",
      "source": [
        "from sklearn.metrics import confusion_matrix, accuracy_score\n",
        "accuracy=[]\n",
        "for model, name in zip(models,names):\n",
        "    model.fit(X_train, y_train)\n",
        "\n",
        "    y_pred = model.predict(X_test)\n",
        "    print('Confusion matrix of ',name)\n",
        "    print(confusion_matrix(y_test, y_pred))\n",
        "    ac = accuracy_score(y_test, y_pred)\n",
        "    print('Accuracy score is ',ac)\n",
        "    accuracy.append(ac)\n",
        "    print('*'*50)"
      ],
      "metadata": {
        "colab": {
          "base_uri": "https://localhost:8080/"
        },
        "id": "R8PUUmj9kXA6",
        "outputId": "8be48788-8784-4b4d-aae6-c31c66237f22"
      },
      "execution_count": null,
      "outputs": [
        {
          "output_type": "stream",
          "name": "stdout",
          "text": [
            "Confusion matrix of  Logistic Regression\n",
            "[[ 7  8]\n",
            " [ 3 25]]\n",
            "Accuracy score is  0.7441860465116279\n",
            "**************************************************\n",
            "Confusion matrix of  Support Vector Machine\n",
            "[[ 7  8]\n",
            " [ 3 25]]\n",
            "Accuracy score is  0.7441860465116279\n",
            "**************************************************\n",
            "Confusion matrix of  Decision Tree\n",
            "[[15  0]\n",
            " [ 1 27]]\n",
            "Accuracy score is  0.9767441860465116\n",
            "**************************************************\n",
            "Confusion matrix of  Random Forest\n",
            "[[15  0]\n",
            " [ 1 27]]\n",
            "Accuracy score is  0.9767441860465116\n",
            "**************************************************\n",
            "Confusion matrix of  KNeighborsClassifier\n",
            "[[13  2]\n",
            " [ 7 21]]\n",
            "Accuracy score is  0.7906976744186046\n",
            "**************************************************\n"
          ]
        }
      ]
    },
    {
      "cell_type": "code",
      "source": [
        "Accuracy_list = pd.DataFrame(list(zip(names, accuracy)),columns =['Model', 'Accuracy'])\n",
        "Accuracy_list= Accuracy_list.sort_values('Accuracy', axis=0, kind='quicksort', na_position='last', ignore_index=True)\n",
        "\n",
        "plt.rcParams['figure.figsize']=15,10\n",
        "sns.set_style(\"darkgrid\")\n",
        "ax = sns.barplot(x = 'Model',y = 'Accuracy',data = Accuracy_list , saturation =2.5)\n",
        "plt.xlabel(\"Model\", fontsize = 25 )\n",
        "plt.ylabel(\"Accuracy\", fontsize = 25)\n",
        "plt.title(\"Accuracy of different Models\", fontsize = 25, color=\"red\")\n",
        "plt.xticks(fontsize = 15, horizontalalignment = 'center', rotation = 10)\n",
        "plt.yticks(fontsize = 15)\n",
        "for p in ax.patches:\n",
        "    width, height = p.get_width(), p.get_height()\n",
        "    x, y = p.get_xy()\n",
        "    ax.annotate(f'{height:.2%}', (x + width/2, y + height*1.02), ha='center', fontsize = 'x-large')\n",
        "plt.show()"
      ],
      "metadata": {
        "colab": {
          "base_uri": "https://localhost:8080/",
          "height": 642
        },
        "id": "YAvKm4IIMJVj",
        "outputId": "b249f335-e77f-4940-e6e9-bf22715ee703"
      },
      "execution_count": null,
      "outputs": [
        {
          "output_type": "display_data",
          "data": {
            "text/plain": [
              "<Figure size 1080x720 with 1 Axes>"
            ],
            "image/png": "[encoded data removed]"
          },
          "metadata": {}
        }
      ]
    },
    {
      "cell_type": "code",
      "source": [
        "Accuracy_list = pd.DataFrame(list(zip(names, accuracy)),columns =['Model', 'Accuracy'])\n",
        "Accuracy_list= Accuracy_list.sort_values('Accuracy', axis=0, kind='quicksort', na_position='last', ignore_index=True)\n",
        "\n",
        "plt.rcParams['figure.figsize']=15,10\n",
        "sns.set_style(\"darkgrid\")\n",
        "ax = sns.barplot(x = 'Model',y = 'Accuracy',data = Accuracy_list ,saturation =2.5)\n",
        "sns.color_palette(\"Spectral\", as_cmap=True)\n",
        "plt.xlabel(\"Machine Learning Prediction Algorithm Model\", fontsize = 25 )\n",
        "plt.ylabel(\"Accuracy\", fontsize = 25)\n",
        "plt.title(\"Accuracy of different Models\", fontsize = 25, color=\"red\")\n",
        "plt.xticks(fontsize = 15, horizontalalignment = 'center', rotation = 10)\n",
        "plt.yticks(fontsize = 15)\n",
        "for p in ax.patches:\n",
        "    width, height = p.get_width(), p.get_height()\n",
        "    x, y = p.get_xy()\n",
        "    ax.annotate(f'{height:.2%}', (x + width/2, y + height*1.02), ha='center', fontsize = 'x-large')\n",
        "plt.show()"
      ],
      "metadata": {
        "colab": {
          "base_uri": "https://localhost:8080/",
          "height": 642
        },
        "id": "pLPJxZq1jdlF",
        "outputId": "97317731-fb83-4aa2-e5eb-a82ed67ae191"
      },
      "execution_count": null,
      "outputs": [
        {
          "output_type": "display_data",
          "data": {
            "text/plain": [
              "<Figure size 1080x720 with 1 Axes>"
            ],
            "image/png": "[encoded data removed]"
          },
          "metadata": {}
        }
      ]
    },
    {
      "cell_type": "code",
      "source": [
        "best_score = -1\n",
        "best_estimators = 0\n",
        "for i in range(10,250):\n",
        "    classifier = RandomForestClassifier(n_estimators=i, random_state=0)\n",
        "    classifier.fit(X_train, y_train)\n",
        "    pred = classifier.predict(X_test)\n",
        "    score = accuracy_score(pred, y_test)\n",
        "    if score > best_score:\n",
        "        best_score = score\n",
        "        best_estimators = i\n",
        "\n",
        "print(\"RANDOM FOREST CLASSIFIER is having  the best number of estiamtors was %d with accuracy score %f\" % (best_estimators, (best_score * 100)))"
      ],
      "metadata": {
        "id": "q7plQmkO_HI2",
        "colab": {
          "base_uri": "https://localhost:8080/"
        },
        "outputId": "30e67353-5755-4ec6-a573-c79b4ad0cb08"
      },
      "execution_count": null,
      "outputs": [
        {
          "output_type": "stream",
          "name": "stdout",
          "text": [
            "RANDOM FOREST CLASSIFIER is having  the best number of estiamtors was 11 with accuracy score 97.674419\n"
          ]
        }
      ]
    },
    {
      "cell_type": "code",
      "source": [
        "from sklearn.metrics import confusion_matrix, precision_score, plot_confusion_matrix\n",
        "import matplotlib.pyplot as plt\n",
        "\n",
        "print(\"True Negatives: %d, False Positives: %d, False Negatives: %d, True Positives: %d\" % tuple(confusion_matrix(y_test, pred).ravel()))\n",
        "print(\"Precision Score: %f\" % (precision_score(y_test, pred) * 100))\n",
        "plot_confusion_matrix(model, X_test, y_test, cmap='CMRmap_r')\n",
        "plt.title(\"Confusion Matrix\")\n",
        "plt.show()"
      ],
      "metadata": {
        "colab": {
          "base_uri": "https://localhost:8080/",
          "height": 124
        },
        "id": "A456hCNJ8ctZ",
        "outputId": "8b7e4054-e6dc-4aa4-8943-c26230c5fdff"
      },
      "execution_count": null,
      "outputs": [
        {
          "output_type": "stream",
          "name": "stdout",
          "text": [
            "True Negatives: 15, False Positives: 0, False Negatives: 1, True Positives: 27\n",
            "Precision Score: 100.000000\n"
          ]
        },
        {
          "output_type": "stream",
          "name": "stderr",
          "text": [
            "/usr/local/lib/python3.8/dist-packages/sklearn/utils/deprecation.py:87: FutureWarning: Function plot_confusion_matrix is deprecated; Function `plot_confusion_matrix` is deprecated in 1.0 and will be removed in 1.2. Use one of the class methods: ConfusionMatrixDisplay.from_predictions or ConfusionMatrixDisplay.from_estimator.\n",
            "  warnings.warn(msg, category=FutureWarning)\n"
          ]
        },
        {
          "output_type": "display_data",
          "data": {
            "text/plain": [
              "<Figure size 1080x720 with 2 Axes>"
            ],
            "image/png": "[encoded data removed]"
          },
          "metadata": {}
        }
      ]
    },
    {
      "cell_type": "code",
      "source": [
        "from sklearn.metrics import precision_recall_curve, plot_precision_recall_curve\n",
        "# Get the predicted probabilties of the positive label (placed)\n",
        "y_pred_prob = model.predict_proba(X_test)[:, 1]\n",
        "\n",
        "# Get curve\n",
        "precision, recall, thresholds = precision_recall_curve(y_test, y_pred_prob)\n",
        "\n",
        "# Plot\n",
        "plt.plot(recall, precision, label=\"Random Forest\")\n",
        "plt.xlabel(\"Recall\")\n",
        "plt.ylabel(\"Precision\")\n",
        "plt.plot([0, 1], [0.68837209, 0.68837209], label=\"Baseline\")\n",
        "plt.legend()\n",
        "plt.show()"
      ],
      "metadata": {
        "colab": {
          "base_uri": "https://localhost:8080/",
          "height": 54
        },
        "id": "2-jjaC_68utC",
        "outputId": "8d12d36a-b061-48cb-e8d3-f44c8d104817"
      },
      "execution_count": null,
      "outputs": [
        {
          "output_type": "display_data",
          "data": {
            "text/plain": [
              "<Figure size 1080x720 with 1 Axes>"
            ],
            "image/png": "[encoded data removed]"
          },
          "metadata": {}
        }
      ]
    },
    {
      "cell_type": "code",
      "source": [
        "from sklearn.metrics import plot_roc_curve\n",
        "from sklearn.metrics import roc_curve\n",
        "from sklearn.metrics import roc_auc_score\n",
        "y_score7 = classifier.predict_proba(X_test)[:,1]\n",
        "false_positive_rate7, true_positive_rate7, threshold6 = roc_curve(y_test, y_score7)\n",
        "\n",
        "plt.subplots(1, figsize=(8,8))\n",
        "plt.title('Receiver Operating Characteristic - Random forest')\n",
        "plt.plot(false_positive_rate7, true_positive_rate7)\n",
        "\n",
        "plt.plot([0, 1], ls=\"--\")\n",
        "plt.plot([0, 0], [1, 0] , c=\".7\"), plt.plot([1, 1] , c=\".7\")\n",
        "plt.ylabel('True Positive Rate')\n",
        "plt.xlabel('False Positive Rate')\n",
        "plt.legend()\n",
        "plt.show()"
      ],
      "metadata": {
        "colab": {
          "base_uri": "https://localhost:8080/",
          "height": 530
        },
        "id": "57s-G1YW_476",
        "outputId": "37d6e280-0712-4805-fee5-6884c9c9c54f"
      },
      "execution_count": null,
      "outputs": [
        {
          "output_type": "stream",
          "name": "stderr",
          "text": [
            "WARNING:matplotlib.legend:No handles with labels found to put in legend.\n"
          ]
        },
        {
          "output_type": "display_data",
          "data": {
            "text/plain": [
              "<Figure size 576x576 with 1 Axes>"
            ],
            "image/png": "[encoded data removed]"
          },
          "metadata": {}
        }
      ]
    },
    {
      "cell_type": "code",
      "source": [
        "plt.subplots(1, figsize=(8,8))\n",
        "plt.title('Receiver Operating Characteristic - Random forest')\n",
        "plt.plot(false_positive_rate7, true_positive_rate7)\n",
        "plt.plot([0, 1], ls=\"--\")\n",
        "plt.plot([0, 0], [1, 0] , c=\".7\"), plt.plot([1, 1] , c=\".7\")\n",
        "plt.ylabel('True Positive Rate')\n",
        "plt.xlabel('False Positive Rate')\n",
        "plt.legend()\n",
        "plt.show()"
      ],
      "metadata": {
        "colab": {
          "base_uri": "https://localhost:8080/",
          "height": 530
        },
        "id": "XxbOk4glJMcN",
        "outputId": "29ddba7b-26ca-48bf-f07b-6a4ab6373e82"
      },
      "execution_count": null,
      "outputs": [
        {
          "output_type": "stream",
          "name": "stderr",
          "text": [
            "WARNING:matplotlib.legend:No handles with labels found to put in legend.\n"
          ]
        },
        {
          "output_type": "display_data",
          "data": {
            "text/plain": [
              "<Figure size 576x576 with 1 Axes>"
            ],
            "image/png": "[encoded data removed]"
          },
          "metadata": {}
        }
      ]
    }
  ]
}